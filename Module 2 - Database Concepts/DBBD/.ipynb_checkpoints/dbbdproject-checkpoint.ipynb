{
 "cells": [
  {
   "cell_type": "markdown",
   "metadata": {},
   "source": [
    "### Summary of the problem statement\n",
    "Pneumonia is in the list of top 10 causes for death in the US. It accounts for 15% of all death in children under the age of 5 internationally. Accurately diagnosing Pneumonia is an elaborate process. It requires review of Chest Radiograph by trained specialists and other detailed examination. Due to the high volume of Chest X-Ray review the specialists are burdened with, screening the radiographs for opacity which indicated pneumonia using AI to prioritize and expedite review is seen a possible solution.\n",
    "\n",
    "### The Dataset - BIG DATA\n",
    "The dataset contains images with details in DICOM® format. DICOM® (Digital Imaging and Communications in Medicine) is the international standard to transmit, store, retrieve, print, process, and display medical imaging information. DICOM images are special images with metadata. Each image has information about itself.\n",
    "\n",
    "The actual data set that has 26684 training and 3000 test X-ray images. The images are annotated with bounding boxes to highlight the region in the X-ray that is indicative of possible Pneumonia. For the purpose of this training, we have reduced it to 100 images and their respective data in the file Patient_images.zip. Unzip this file into a directory named \"stage_2_train_images\". *To make it more challenging, find the package python uses to unzip and you can unzip the file in your code*\n",
    "\n",
    "### The normal structured data\n",
    "All the patient outcomes and the infected area are stored in the CSV File Patient_details.csv. This also contains 100 records which pertain to each of the patients whose image details we have in the zip file. \n"
   ]
  },
  {
   "cell_type": "code",
   "execution_count": null,
   "metadata": {},
   "outputs": [],
   "source": [
    "# Installing & Importing Required Packages\n",
    "\n",
    "#This will install a special package to read dicom files\n",
    "\n",
    "import pandas as pd\n",
    "import matplotlib.pyplot as plt \n",
    "import pydicom\n",
    "import numpy as np"
   ]
  },
  {
   "cell_type": "code",
   "execution_count": null,
   "metadata": {},
   "outputs": [],
   "source": [
    "# Importing Class info and Label dataset\n",
    "patient_df = pd.read_csv(\"Patient_Details_opt.xls\")\n",
    "patient_df.head()"
   ]
  },
  {
   "cell_type": "code",
   "execution_count": null,
   "metadata": {},
   "outputs": [],
   "source": [
    "# Storing PatientIds as list as list because they are the  file name of DCIM images, hence it will help to read the images \n",
    "\n",
    "patientID = patient_df.patientId.unique().tolist()"
   ]
  },
  {
   "cell_type": "code",
   "execution_count": null,
   "metadata": {},
   "outputs": [],
   "source": [
    "\n",
    "path='.\\\\stage_2_train_images\\\\' #If you are using a windows machine use '\\\\' instead of '/'"
   ]
  },
  {
   "cell_type": "code",
   "execution_count": null,
   "metadata": {},
   "outputs": [],
   "source": [
    "#Read all the dicom files into an array\n",
    "dcm_data = []\n",
    "for each_patient in patientID:\n",
    "    dcm_file = path +'%s.dcm' %each_patient\n",
    "    dcm_data.append(pydicom.read_file(dcm_file))"
   ]
  },
  {
   "cell_type": "code",
   "execution_count": null,
   "metadata": {},
   "outputs": [],
   "source": [
    "#We will examine one random dicom image. The image is stored as an attribute array \n",
    "random_dicom = dcm_data[np.random.randint(0,100)]\n",
    "print(type(random_dicom))"
   ]
  },
  {
   "cell_type": "markdown",
   "metadata": {},
   "source": [
    "As we can see, each dicom file is read as a **FileDataSet**. All kind of Big Data have ways to deal with them. For dicom images, it is **FileDataSet** which contains the image and metadata. For the purpose of this exercise we will only retrieve the image attribute, which is stored as a ndarray named **pixel_array**. You can challenge yourself to explore what other attributes of the FileDataSet has."
   ]
  },
  {
   "cell_type": "code",
   "execution_count": null,
   "metadata": {},
   "outputs": [],
   "source": [
    "plt.imshow(random_dicom.pixel_array)"
   ]
  },
  {
   "cell_type": "markdown",
   "metadata": {},
   "source": [
    "We can run it through a loop and process all the images just like how we retrieved a random one. "
   ]
  },
  {
   "cell_type": "code",
   "execution_count": null,
   "metadata": {},
   "outputs": [],
   "source": []
  }
 ],
 "metadata": {
  "kernelspec": {
   "display_name": "Python 3 (ipykernel)",
   "language": "python",
   "name": "python3"
  },
  "language_info": {
   "codemirror_mode": {
    "name": "ipython",
    "version": 3
   },
   "file_extension": ".py",
   "mimetype": "text/x-python",
   "name": "python",
   "nbconvert_exporter": "python",
   "pygments_lexer": "ipython3",
   "version": "3.9.5"
  }
 },
 "nbformat": 4,
 "nbformat_minor": 4
}
